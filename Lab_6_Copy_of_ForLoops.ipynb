{
  "nbformat": 4,
  "nbformat_minor": 0,
  "metadata": {
    "colab": {
      "provenance": [],
      "include_colab_link": true
    },
    "kernelspec": {
      "name": "python3",
      "display_name": "Python 3"
    },
    "language_info": {
      "name": "python"
    }
  },
  "cells": [
    {
      "cell_type": "markdown",
      "metadata": {
        "id": "view-in-github",
        "colab_type": "text"
      },
      "source": [
        "<a href=\"https://colab.research.google.com/github/igarcia3/git-test/blob/main/Lab_6_Copy_of_ForLoops.ipynb\" target=\"_parent\"><img src=\"https://colab.research.google.com/assets/colab-badge.svg\" alt=\"Open In Colab\"/></a>"
      ]
    },
    {
      "cell_type": "markdown",
      "source": [
        "**BEFORE YOU START!**\n",
        "\n",
        "Go to File > Save a Copy (you can choose Drive or GitHub, whichever you are more comfortable with)"
      ],
      "metadata": {
        "id": "gjaVRY1jKK3A"
      }
    },
    {
      "cell_type": "markdown",
      "source": [
        "# **Loops** #\n",
        "\n",
        "*Learning Objective: Use repetition structures to solve problems.*"
      ],
      "metadata": {
        "id": "W5ENQODhlaY0"
      }
    },
    {
      "cell_type": "markdown",
      "source": [
        "## Read ##\n",
        "Ready to read more about lists? Check out these free resources.\n",
        "\n",
        "*   [Openstax Introduction to Python Programming](https://openstax.org/books/introduction-python-programming/pages/5-introduction)\n",
        "*   [How to Think Like a Computer Scientist](https://runestone.academy/ns/books/published/thinkcspy/MoreAboutIteration/toctree.html)\n",
        "*   [The Python Coding Cookbook](https://thepythoncodingbook.com/1-getting-started-with-the-fundamentals-of-programming/)\n"
      ],
      "metadata": {
        "id": "BRFexfm3l6MW"
      }
    },
    {
      "cell_type": "markdown",
      "source": [
        "## Practice ##\n",
        "\n",
        "Run the following code that prints multiple lines of arithmetic."
      ],
      "metadata": {
        "id": "9Yu9ek-Hm7wx"
      }
    },
    {
      "cell_type": "code",
      "execution_count": 1,
      "metadata": {
        "id": "f9VzcBySicCc",
        "outputId": "3f77772e-7751-435d-a151-f44025efcb88",
        "colab": {
          "base_uri": "https://localhost:8080/"
        }
      },
      "outputs": [
        {
          "output_type": "stream",
          "name": "stdout",
          "text": [
            "2 times 1 is 2\n",
            "2 times 2 is 4\n",
            "2 times 3 is 6\n",
            "2 times 4 is 8\n",
            "2 times 5 is 10\n"
          ]
        }
      ],
      "source": [
        "print(f\"{2} times {1} is {2}\")\n",
        "print(f\"{2} times {2} is {4}\")\n",
        "print(f\"{2} times {3} is {6}\")\n",
        "print(f\"{2} times {4} is {8}\")\n",
        "print(f\"{2} times {5} is {10}\")"
      ]
    },
    {
      "cell_type": "markdown",
      "source": [
        "The above code seems repetitive but it isn't exactly the same thing over and over.  Even though each line of output is not identical, it does follow a pattern. We can see that the second number is increasing from 1 to 5, and the last number in each line is just the result of multiplication. So, let's actually make this code bigger before condensing it.\n",
        "\n",
        "Run the next code block which produces the same output as above, but with variables."
      ],
      "metadata": {
        "id": "e7EtdQBcngER"
      }
    },
    {
      "cell_type": "code",
      "source": [
        "x = 1\n",
        "print(f\"{2} times {x} is {2*x}\")\n",
        "x = x + 1\n",
        "print(f\"{2} times {x} is {2*x}\")\n",
        "x = x + 1\n",
        "print(f\"{2} times {x} is {2*x}\")\n",
        "x = x + 1\n",
        "print(f\"{2} times {x} is {2*x}\")\n",
        "x = x + 1\n",
        "print(f\"{2} times {x} is {2*x}\")\n",
        "x = x + 1"
      ],
      "metadata": {
        "id": "-GP5OYP4oRER",
        "outputId": "9c2f01b2-0317-418a-f570-804a016f4360",
        "colab": {
          "base_uri": "https://localhost:8080/"
        }
      },
      "execution_count": 2,
      "outputs": [
        {
          "output_type": "stream",
          "name": "stdout",
          "text": [
            "2 times 1 is 2\n",
            "2 times 2 is 4\n",
            "2 times 3 is 6\n",
            "2 times 4 is 8\n",
            "2 times 5 is 10\n"
          ]
        }
      ]
    },
    {
      "cell_type": "markdown",
      "source": [
        "Now we can see that the repeated code is identical. Now, run the following code which is doing the same thing as above."
      ],
      "metadata": {
        "id": "NVNLA9dIo01I"
      }
    },
    {
      "cell_type": "code",
      "source": [
        "for x in range(1,6):\n",
        "  print(f\"{2} times {x} is {2*x}\")"
      ],
      "metadata": {
        "id": "34i9ddzTpBs8",
        "colab": {
          "base_uri": "https://localhost:8080/"
        },
        "outputId": "b217d221-c09a-4523-f5d4-853ac44744ea"
      },
      "execution_count": 3,
      "outputs": [
        {
          "output_type": "stream",
          "name": "stdout",
          "text": [
            "2 times 1 is 2\n",
            "2 times 2 is 4\n",
            "2 times 3 is 6\n",
            "2 times 4 is 8\n",
            "2 times 5 is 10\n"
          ]
        }
      ]
    },
    {
      "cell_type": "markdown",
      "source": [
        "We can leave out the `x = x + 1` lines because the for loop does that part automatically for us. It starts with `x` equaling the first number of the range, 1, then increases by one each iteration until it reaches the second number of the range but does NOT run that last time. If we want to change the amount the loop control variable changes each iteration, we can do that too.\n",
        "\n",
        "Run the following code to list odd numbers."
      ],
      "metadata": {
        "id": "0oxTFXVJpJ2i"
      }
    },
    {
      "cell_type": "code",
      "source": [
        "for i in range(1,20,2):\n",
        "  print(i, end=\", \")\n",
        "\n",
        "print(\"...\")"
      ],
      "metadata": {
        "id": "KtpNWN-vqK0E",
        "colab": {
          "base_uri": "https://localhost:8080/"
        },
        "outputId": "35ab7d7d-5922-4fd0-ab15-7c4f4bbf72a2"
      },
      "execution_count": 4,
      "outputs": [
        {
          "output_type": "stream",
          "name": "stdout",
          "text": [
            "1, 3, 5, 7, 9, 11, 13, 15, 17, 19, ...\n"
          ]
        }
      ]
    },
    {
      "cell_type": "markdown",
      "source": [
        "Note that I used `i` instead of `x`. It doesn't matter what variable you use there. Often you'll see `i` because it is the first letter of iterator.\n",
        "\n",
        "The 2 in `range(1,20,2)` is what made it print every other number."
      ],
      "metadata": {
        "id": "Wv90r8kAqsGK"
      }
    },
    {
      "cell_type": "markdown",
      "source": [
        "Next, try to write a for loop that prints the multiples of 3 up to and including 30."
      ],
      "metadata": {
        "id": "dxKb_rDErKiT"
      }
    },
    {
      "cell_type": "code",
      "source": [
        "for i in range(0,31,3):\n",
        "  print(i, end=\", \")\n",
        "\n",
        "print(\"...\")"
      ],
      "metadata": {
        "id": "ZrEKhE25ryk7",
        "colab": {
          "base_uri": "https://localhost:8080/"
        },
        "outputId": "47ff6f49-e341-4720-b1fa-f88e3c11fb1b"
      },
      "execution_count": 16,
      "outputs": [
        {
          "output_type": "stream",
          "name": "stdout",
          "text": [
            "0, 3, 6, 9, 12, 15, 18, 21, 24, 27, 30, ...\n"
          ]
        }
      ]
    },
    {
      "cell_type": "markdown",
      "source": [
        "Now solve the problem a different way."
      ],
      "metadata": {
        "id": "Ng0JSHQ-r1BJ"
      }
    },
    {
      "cell_type": "code",
      "source": [
        "for i in range (0,11):\n",
        "  print(i*3, end=\", \")\n",
        "\n",
        "print(\"...\")"
      ],
      "metadata": {
        "id": "3ahPgl8Ir9M8",
        "colab": {
          "base_uri": "https://localhost:8080/"
        },
        "outputId": "276d9de9-1151-4b98-d616-10a37718771b"
      },
      "execution_count": 17,
      "outputs": [
        {
          "output_type": "stream",
          "name": "stdout",
          "text": [
            "0, 3, 6, 9, 12, 15, 18, 21, 24, 27, 30, ...\n"
          ]
        }
      ]
    },
    {
      "cell_type": "markdown",
      "source": [
        "For a challenge, read about `while` loops and try to write one of those that does the same output as above."
      ],
      "metadata": {
        "id": "tkURVR82sAHZ"
      }
    },
    {
      "cell_type": "code",
      "source": [
        "#your code here"
      ],
      "metadata": {
        "id": "s7HHaPA1sIlr"
      },
      "execution_count": null,
      "outputs": []
    },
    {
      "cell_type": "markdown",
      "source": [
        "Excellent! Remember you can refer to the resources at the top if you want more explanation or practice using lists. When ready, move on to the lab below."
      ],
      "metadata": {
        "id": "KSXsFQkjscCz"
      }
    },
    {
      "cell_type": "markdown",
      "source": [
        "\n",
        "\n",
        "---\n",
        "\n",
        "# Lab: Kapa #\n",
        "\n",
        "_Learning Objective: Implement repetition structures._\n",
        "\n",
        "![](https://drive.google.com/uc?export=view&id=1l81dQqbAVLhUb5u5xppHhXlM735MztdJ)\n",
        "\n",
        "This lab relates to the Polynesian art of Kapa making. Watch this video to learn about Kapa: [The Art of Living: The Creation of Kapa](https://youtu.be/6pYn3ZBvhuA?si=n4CHPgYd-Sk_0bwy)\n",
        "\n",
        "Kapa is traditional bark cloth decorated with patterns of meaningful symbols that represent the intended recipient and/or the person creating it. Traditionally these symbols are stamped onto the prepared cloth using natural dyes and carved wooden stamps. The creation of Kapa cloth is a long process that requires patience and respect of the Polynesian culture and traditions. For our lab this week we are generating a Kapa-like design using symbols of your choosing that represent you.\n"
      ],
      "metadata": {
        "id": "VAGESuVysRDw"
      }
    },
    {
      "cell_type": "markdown",
      "source": [
        "###Example:###\n",
        "\n",
        "Made by professor Walker\n",
        "\n",
        "\n",
        "*   0 and 1 are for computer binary which represents my interest in CS. In addition there are three people in my household, each in a different generation which is represented in the pattern of 1s.\n",
        "*   The ▲▴ are for mountains. I love being in the mountains; camping, rock climbing, hiking.\n",
        "*   The star is for astronomy, celestial navigation, and my son who is my highest point.\n",
        "*   The =, <, and > are math symbols that represent my math background and I like the pattern they make.\n",
        "\n",
        "![](https://drive.google.com/uc?export=view&id=1SLBnADq9QWj2xiso7li5WJNZ6fqnW2r0)"
      ],
      "metadata": {
        "id": "mTeOsKZXELk5"
      }
    },
    {
      "cell_type": "markdown",
      "source": [
        "###Step 1:###\n",
        "Select three symbols that represent some aspects of you. In the text box below, explain why you selected them. (hint: double click on the text to edit)\n"
      ],
      "metadata": {
        "id": "maGWsxNRvlD2"
      }
    },
    {
      "cell_type": "markdown",
      "source": [
        "1. \"Ⅱ\" is the roman numeral for two, which represents each one of my twin daugters.  \n",
        "2. \"^\" because it shows the peaks/fun times of being a dad.\n",
        "3. \"˅\" because it shows the valleys/difficulties of being a dad.\n",
        "4. \"~-\" is the rollercoaster ride of being a dad."
      ],
      "metadata": {
        "id": "eqrSPgWS8fCU"
      }
    },
    {
      "cell_type": "markdown",
      "source": [
        "###Step 2:###\n",
        "Use at least three loops to generate a Kapa style pattern using Python."
      ],
      "metadata": {
        "id": "ND9dKIkU8qu5"
      }
    },
    {
      "cell_type": "markdown",
      "source": [
        "###Submit:###\n",
        "Go to Share (blue button in upper right)\n",
        "\n",
        "Either:\n",
        "\n",
        "*   Add your instructor as a collaborator, or\n",
        "*   Change the general access to Anyone with the Link\n",
        "\n",
        "For both, you then copy the link and submit in Canvas\n",
        "\n",
        "As a backup, you can also print your notebook as a PDF.\n",
        "\n",
        "\n"
      ],
      "metadata": {
        "id": "vDOXzTdp9ekD"
      }
    },
    {
      "cell_type": "code",
      "source": [
        "for h in range(3):\n",
        "  for i in range(1):\n",
        "    print(\"˅ \"*30)\n",
        "    print(\"Ⅱ\"*33)\n",
        "\n",
        "  for i in range(1):\n",
        "    print(\"^ \"* 30)\n",
        "    print(\"~-\"*30)\n",
        "    for j in range(1):\n",
        "      print(\"˅ \"*30)\n",
        "    for k in range(1):\n",
        "      print(\"Ⅱ\"*33)\n",
        "      print(\"^ \"*30)\n",
        "      for l in range(2):\n",
        "        print(\"~-\"*30)\n"
      ],
      "metadata": {
        "id": "CvoHwNe5zYmB",
        "colab": {
          "base_uri": "https://localhost:8080/"
        },
        "outputId": "12d3d882-c1d6-4920-dd20-f960df4e0f44"
      },
      "execution_count": 45,
      "outputs": [
        {
          "output_type": "stream",
          "name": "stdout",
          "text": [
            "˅ ˅ ˅ ˅ ˅ ˅ ˅ ˅ ˅ ˅ ˅ ˅ ˅ ˅ ˅ ˅ ˅ ˅ ˅ ˅ ˅ ˅ ˅ ˅ ˅ ˅ ˅ ˅ ˅ ˅ \n",
            "ⅡⅡⅡⅡⅡⅡⅡⅡⅡⅡⅡⅡⅡⅡⅡⅡⅡⅡⅡⅡⅡⅡⅡⅡⅡⅡⅡⅡⅡⅡⅡⅡⅡ\n",
            "^ ^ ^ ^ ^ ^ ^ ^ ^ ^ ^ ^ ^ ^ ^ ^ ^ ^ ^ ^ ^ ^ ^ ^ ^ ^ ^ ^ ^ ^ \n",
            "~-~-~-~-~-~-~-~-~-~-~-~-~-~-~-~-~-~-~-~-~-~-~-~-~-~-~-~-~-~-\n",
            "˅ ˅ ˅ ˅ ˅ ˅ ˅ ˅ ˅ ˅ ˅ ˅ ˅ ˅ ˅ ˅ ˅ ˅ ˅ ˅ ˅ ˅ ˅ ˅ ˅ ˅ ˅ ˅ ˅ ˅ \n",
            "ⅡⅡⅡⅡⅡⅡⅡⅡⅡⅡⅡⅡⅡⅡⅡⅡⅡⅡⅡⅡⅡⅡⅡⅡⅡⅡⅡⅡⅡⅡⅡⅡⅡ\n",
            "^ ^ ^ ^ ^ ^ ^ ^ ^ ^ ^ ^ ^ ^ ^ ^ ^ ^ ^ ^ ^ ^ ^ ^ ^ ^ ^ ^ ^ ^ \n",
            "~-~-~-~-~-~-~-~-~-~-~-~-~-~-~-~-~-~-~-~-~-~-~-~-~-~-~-~-~-~-\n",
            "~-~-~-~-~-~-~-~-~-~-~-~-~-~-~-~-~-~-~-~-~-~-~-~-~-~-~-~-~-~-\n",
            "˅ ˅ ˅ ˅ ˅ ˅ ˅ ˅ ˅ ˅ ˅ ˅ ˅ ˅ ˅ ˅ ˅ ˅ ˅ ˅ ˅ ˅ ˅ ˅ ˅ ˅ ˅ ˅ ˅ ˅ \n",
            "ⅡⅡⅡⅡⅡⅡⅡⅡⅡⅡⅡⅡⅡⅡⅡⅡⅡⅡⅡⅡⅡⅡⅡⅡⅡⅡⅡⅡⅡⅡⅡⅡⅡ\n",
            "^ ^ ^ ^ ^ ^ ^ ^ ^ ^ ^ ^ ^ ^ ^ ^ ^ ^ ^ ^ ^ ^ ^ ^ ^ ^ ^ ^ ^ ^ \n",
            "~-~-~-~-~-~-~-~-~-~-~-~-~-~-~-~-~-~-~-~-~-~-~-~-~-~-~-~-~-~-\n",
            "˅ ˅ ˅ ˅ ˅ ˅ ˅ ˅ ˅ ˅ ˅ ˅ ˅ ˅ ˅ ˅ ˅ ˅ ˅ ˅ ˅ ˅ ˅ ˅ ˅ ˅ ˅ ˅ ˅ ˅ \n",
            "ⅡⅡⅡⅡⅡⅡⅡⅡⅡⅡⅡⅡⅡⅡⅡⅡⅡⅡⅡⅡⅡⅡⅡⅡⅡⅡⅡⅡⅡⅡⅡⅡⅡ\n",
            "^ ^ ^ ^ ^ ^ ^ ^ ^ ^ ^ ^ ^ ^ ^ ^ ^ ^ ^ ^ ^ ^ ^ ^ ^ ^ ^ ^ ^ ^ \n",
            "~-~-~-~-~-~-~-~-~-~-~-~-~-~-~-~-~-~-~-~-~-~-~-~-~-~-~-~-~-~-\n",
            "~-~-~-~-~-~-~-~-~-~-~-~-~-~-~-~-~-~-~-~-~-~-~-~-~-~-~-~-~-~-\n",
            "˅ ˅ ˅ ˅ ˅ ˅ ˅ ˅ ˅ ˅ ˅ ˅ ˅ ˅ ˅ ˅ ˅ ˅ ˅ ˅ ˅ ˅ ˅ ˅ ˅ ˅ ˅ ˅ ˅ ˅ \n",
            "ⅡⅡⅡⅡⅡⅡⅡⅡⅡⅡⅡⅡⅡⅡⅡⅡⅡⅡⅡⅡⅡⅡⅡⅡⅡⅡⅡⅡⅡⅡⅡⅡⅡ\n",
            "^ ^ ^ ^ ^ ^ ^ ^ ^ ^ ^ ^ ^ ^ ^ ^ ^ ^ ^ ^ ^ ^ ^ ^ ^ ^ ^ ^ ^ ^ \n",
            "~-~-~-~-~-~-~-~-~-~-~-~-~-~-~-~-~-~-~-~-~-~-~-~-~-~-~-~-~-~-\n",
            "˅ ˅ ˅ ˅ ˅ ˅ ˅ ˅ ˅ ˅ ˅ ˅ ˅ ˅ ˅ ˅ ˅ ˅ ˅ ˅ ˅ ˅ ˅ ˅ ˅ ˅ ˅ ˅ ˅ ˅ \n",
            "ⅡⅡⅡⅡⅡⅡⅡⅡⅡⅡⅡⅡⅡⅡⅡⅡⅡⅡⅡⅡⅡⅡⅡⅡⅡⅡⅡⅡⅡⅡⅡⅡⅡ\n",
            "^ ^ ^ ^ ^ ^ ^ ^ ^ ^ ^ ^ ^ ^ ^ ^ ^ ^ ^ ^ ^ ^ ^ ^ ^ ^ ^ ^ ^ ^ \n",
            "~-~-~-~-~-~-~-~-~-~-~-~-~-~-~-~-~-~-~-~-~-~-~-~-~-~-~-~-~-~-\n",
            "~-~-~-~-~-~-~-~-~-~-~-~-~-~-~-~-~-~-~-~-~-~-~-~-~-~-~-~-~-~-\n"
          ]
        }
      ]
    }
  ]
}